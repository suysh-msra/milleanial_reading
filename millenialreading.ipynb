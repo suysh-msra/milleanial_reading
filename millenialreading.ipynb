{
  "nbformat": 4,
  "nbformat_minor": 0,
  "metadata": {
    "colab": {
      "provenance": []
    },
    "kernelspec": {
      "name": "python3",
      "display_name": "Python 3"
    },
    "language_info": {
      "name": "python"
    }
  },
  "cells": [
    {
      "cell_type": "code",
      "execution_count": 5,
      "metadata": {
        "colab": {
          "base_uri": "https://localhost:8080/"
        },
        "id": "2dQgxZ6bl7im",
        "outputId": "4e8db693-1451-4403-b1d3-ff4bf78a59d3"
      },
      "outputs": [
        {
          "output_type": "stream",
          "name": "stdout",
          "text": [
            "Looking in indexes: https://pypi.org/simple, https://us-python.pkg.dev/colab-wheels/public/simple/\n",
            "Collecting newspaper3k\n",
            "  Downloading newspaper3k-0.2.8-py3-none-any.whl (211 kB)\n",
            "\u001b[K     |████████████████████████████████| 211 kB 5.2 MB/s \n",
            "\u001b[?25hRequirement already satisfied: nltk>=3.2.1 in /usr/local/lib/python3.8/dist-packages (from newspaper3k) (3.7)\n",
            "Requirement already satisfied: python-dateutil>=2.5.3 in /usr/local/lib/python3.8/dist-packages (from newspaper3k) (2.8.2)\n",
            "Collecting jieba3k>=0.35.1\n",
            "  Downloading jieba3k-0.35.1.zip (7.4 MB)\n",
            "\u001b[K     |████████████████████████████████| 7.4 MB 57.4 MB/s \n",
            "\u001b[?25hCollecting tinysegmenter==0.3\n",
            "  Downloading tinysegmenter-0.3.tar.gz (16 kB)\n",
            "Requirement already satisfied: requests>=2.10.0 in /usr/local/lib/python3.8/dist-packages (from newspaper3k) (2.23.0)\n",
            "Collecting feedfinder2>=0.0.4\n",
            "  Downloading feedfinder2-0.0.4.tar.gz (3.3 kB)\n",
            "Collecting feedparser>=5.2.1\n",
            "  Downloading feedparser-6.0.10-py3-none-any.whl (81 kB)\n",
            "\u001b[K     |████████████████████████████████| 81 kB 9.0 MB/s \n",
            "\u001b[?25hRequirement already satisfied: Pillow>=3.3.0 in /usr/local/lib/python3.8/dist-packages (from newspaper3k) (7.1.2)\n",
            "Requirement already satisfied: beautifulsoup4>=4.4.1 in /usr/local/lib/python3.8/dist-packages (from newspaper3k) (4.6.3)\n",
            "Requirement already satisfied: PyYAML>=3.11 in /usr/local/lib/python3.8/dist-packages (from newspaper3k) (6.0)\n",
            "Collecting tldextract>=2.0.1\n",
            "  Downloading tldextract-3.4.0-py3-none-any.whl (93 kB)\n",
            "\u001b[K     |████████████████████████████████| 93 kB 2.4 MB/s \n",
            "\u001b[?25hCollecting cssselect>=0.9.2\n",
            "  Downloading cssselect-1.2.0-py2.py3-none-any.whl (18 kB)\n",
            "Requirement already satisfied: lxml>=3.6.0 in /usr/local/lib/python3.8/dist-packages (from newspaper3k) (4.9.2)\n",
            "Requirement already satisfied: six in /usr/local/lib/python3.8/dist-packages (from feedfinder2>=0.0.4->newspaper3k) (1.15.0)\n",
            "Collecting sgmllib3k\n",
            "  Downloading sgmllib3k-1.0.0.tar.gz (5.8 kB)\n",
            "Requirement already satisfied: regex>=2021.8.3 in /usr/local/lib/python3.8/dist-packages (from nltk>=3.2.1->newspaper3k) (2022.6.2)\n",
            "Requirement already satisfied: joblib in /usr/local/lib/python3.8/dist-packages (from nltk>=3.2.1->newspaper3k) (1.2.0)\n",
            "Requirement already satisfied: click in /usr/local/lib/python3.8/dist-packages (from nltk>=3.2.1->newspaper3k) (7.1.2)\n",
            "Requirement already satisfied: tqdm in /usr/local/lib/python3.8/dist-packages (from nltk>=3.2.1->newspaper3k) (4.64.1)\n",
            "Requirement already satisfied: certifi>=2017.4.17 in /usr/local/lib/python3.8/dist-packages (from requests>=2.10.0->newspaper3k) (2022.12.7)\n",
            "Requirement already satisfied: chardet<4,>=3.0.2 in /usr/local/lib/python3.8/dist-packages (from requests>=2.10.0->newspaper3k) (3.0.4)\n",
            "Requirement already satisfied: urllib3!=1.25.0,!=1.25.1,<1.26,>=1.21.1 in /usr/local/lib/python3.8/dist-packages (from requests>=2.10.0->newspaper3k) (1.24.3)\n",
            "Requirement already satisfied: idna<3,>=2.5 in /usr/local/lib/python3.8/dist-packages (from requests>=2.10.0->newspaper3k) (2.10)\n",
            "Collecting requests-file>=1.4\n",
            "  Downloading requests_file-1.5.1-py2.py3-none-any.whl (3.7 kB)\n",
            "Requirement already satisfied: filelock>=3.0.8 in /usr/local/lib/python3.8/dist-packages (from tldextract>=2.0.1->newspaper3k) (3.8.2)\n",
            "Building wheels for collected packages: tinysegmenter, feedfinder2, jieba3k, sgmllib3k\n",
            "  Building wheel for tinysegmenter (setup.py) ... \u001b[?25l\u001b[?25hdone\n",
            "  Created wheel for tinysegmenter: filename=tinysegmenter-0.3-py3-none-any.whl size=13552 sha256=34b0c9bd2565b26d4c23fa1d950d75d8240d8bc691393379d2cbacde45d88c53\n",
            "  Stored in directory: /root/.cache/pip/wheels/99/74/83/8fac1c8d9c648cfabebbbffe97a889f6624817f3aa0bbe6c09\n",
            "  Building wheel for feedfinder2 (setup.py) ... \u001b[?25l\u001b[?25hdone\n",
            "  Created wheel for feedfinder2: filename=feedfinder2-0.0.4-py3-none-any.whl size=3354 sha256=52b1756074228561c64e294b4f3a631df87aebae70c27cc25b5287ae32c8aaf5\n",
            "  Stored in directory: /root/.cache/pip/wheels/b6/09/68/a9f15498ac02c23dde29f18745bc6a6f574ba4ab41861a3575\n",
            "  Building wheel for jieba3k (setup.py) ... \u001b[?25l\u001b[?25hdone\n",
            "  Created wheel for jieba3k: filename=jieba3k-0.35.1-py3-none-any.whl size=7398405 sha256=2dc565a973169a4e494d904fa90bb14b0637c2e1aa938ede7b731252f057050e\n",
            "  Stored in directory: /root/.cache/pip/wheels/1f/7e/0c/54f3b0f5164278677899f2db08f2b07943ce2d024a3c862afb\n",
            "  Building wheel for sgmllib3k (setup.py) ... \u001b[?25l\u001b[?25hdone\n",
            "  Created wheel for sgmllib3k: filename=sgmllib3k-1.0.0-py3-none-any.whl size=6066 sha256=22176ed066da6ec176ab868a3fd091e51c1e303403787d1225d11364474e507e\n",
            "  Stored in directory: /root/.cache/pip/wheels/83/63/2f/117884c3b19d46b64d3d61690333aa80c88dc14050e269c546\n",
            "Successfully built tinysegmenter feedfinder2 jieba3k sgmllib3k\n",
            "Installing collected packages: sgmllib3k, requests-file, tldextract, tinysegmenter, jieba3k, feedparser, feedfinder2, cssselect, newspaper3k\n",
            "Successfully installed cssselect-1.2.0 feedfinder2-0.0.4 feedparser-6.0.10 jieba3k-0.35.1 newspaper3k-0.2.8 requests-file-1.5.1 sgmllib3k-1.0.0 tinysegmenter-0.3 tldextract-3.4.0\n"
          ]
        }
      ],
      "source": [
        "!pip install newspaper3k\n",
        "from newspaper import Article"
      ]
    },
    {
      "cell_type": "code",
      "source": [
        "import nltk"
      ],
      "metadata": {
        "id": "oNQ-6hxFmBYs"
      },
      "execution_count": 2,
      "outputs": []
    },
    {
      "cell_type": "code",
      "source": [
        "nltk.download('punkt')"
      ],
      "metadata": {
        "colab": {
          "base_uri": "https://localhost:8080/"
        },
        "id": "HZRYSZlxmIVW",
        "outputId": "ffd4c90f-a621-4656-816e-fa7dd70d5ccb"
      },
      "execution_count": 6,
      "outputs": [
        {
          "output_type": "stream",
          "name": "stderr",
          "text": [
            "[nltk_data] Downloading package punkt to /root/nltk_data...\n",
            "[nltk_data]   Unzipping tokenizers/punkt.zip.\n"
          ]
        },
        {
          "output_type": "execute_result",
          "data": {
            "text/plain": [
              "True"
            ]
          },
          "metadata": {},
          "execution_count": 6
        }
      ]
    },
    {
      "cell_type": "code",
      "source": [
        "art = \"https://www.thehindu.com/news/national/parliament-winter-session-live-updates-december-22-2022/article66290591.ece\""
      ],
      "metadata": {
        "id": "sNC-hF6jmcpA"
      },
      "execution_count": 7,
      "outputs": []
    },
    {
      "cell_type": "code",
      "source": [
        "obje = Article(art)\n",
        "obje.download()\n",
        "obje.parse()\n"
      ],
      "metadata": {
        "id": "2dkcErE6mpKZ"
      },
      "execution_count": 8,
      "outputs": []
    },
    {
      "cell_type": "code",
      "source": [
        "obje.publish_date"
      ],
      "metadata": {
        "colab": {
          "base_uri": "https://localhost:8080/"
        },
        "id": "ygXIiA75mxrG",
        "outputId": "52a2a5ef-4ab8-4e7a-87e4-3d5f331bf966"
      },
      "execution_count": 10,
      "outputs": [
        {
          "output_type": "execute_result",
          "data": {
            "text/plain": [
              "datetime.datetime(2022, 12, 22, 5, 20, 57, tzinfo=tzlocal())"
            ]
          },
          "metadata": {},
          "execution_count": 10
        }
      ]
    },
    {
      "cell_type": "code",
      "source": [
        "obje.title"
      ],
      "metadata": {
        "colab": {
          "base_uri": "https://localhost:8080/",
          "height": 35
        },
        "id": "blnpgzNgm0VR",
        "outputId": "2842d2f8-16fc-441b-f0ef-18c387379608"
      },
      "execution_count": 11,
      "outputs": [
        {
          "output_type": "execute_result",
          "data": {
            "text/plain": [
              "'Parliament Winter Session Live Updates'"
            ],
            "application/vnd.google.colaboratory.intrinsic+json": {
              "type": "string"
            }
          },
          "metadata": {},
          "execution_count": 11
        }
      ]
    },
    {
      "cell_type": "code",
      "source": [
        "print(obje.text)"
      ],
      "metadata": {
        "colab": {
          "base_uri": "https://localhost:8080/"
        },
        "id": "CQI37ogYm7qK",
        "outputId": "2892705a-1031-4327-fa49-9cf9ba4f8cc9"
      },
      "execution_count": 12,
      "outputs": [
        {
          "output_type": "stream",
          "name": "stdout",
          "text": [
            "December 22, 2022 10:50 am | Updated 12:17 pm IST\n",
            "\n",
            "Both Houses saw a stormy start as Opposition members demanded a discussion on the India-China border clash in Tawang Sector, Arunachal Pradesh. While the Lok Sabha was adjourned till 12 p.m., Opposition members staged a walkout in the Rajya Sabha after a heated back-and-forth with the Chairman.\n",
            "\n",
            "Later today, Rajya Sabha is expected to take up the Constitution (Scheduled Tribes) Order (Second Amendment) Bill, the Constitution (Scheduled Tribes) Order (Third Amendment) Bill and the Constitution (Scheduled Tribes) Order (Fourth Amendment) Bill, which modify the scheduled tribes list in Tamil Nadu, Himachal Pradesh and Karnataka respectively. The Lok Sabha, meanwhile, is expected to take up the Repealing and Amending Bill, 2022, which repeals 60 old laws and rectifies errors in one.\n",
            "\n",
            "Yesterday, the Lok Sabha saw Opposition uproar over the India-China border clash, with the House adjourned once and several Opposition members walking out in protest. The Lower House concludes its discussion of the country’s drug menace with a reply by Union Home Minister Amit Shah reiterating the Centre’s zero-drug tolerance policy. The House also passed the Constitution (Scheduled Tribes) Order (Fifth Amendment) Bill, which modifies the list of Scheduled Tribes in Chhattisgarh.\n",
            "\n",
            "In Rajya Sabha, Union Finance Minister Nirmala Sitharaman replied to concerns expressed by more than 40 members regarding Appropriation Bills 4 and 5. The Upper House then took up The Maritime Anti-Piracy Bill, 2022, for consideration and passing. The Bill was passed after a detailed discussion and External Affairs Minister S. Jaishankar’s reply.\n",
            "\n",
            "Explained | What’s on agenda for the 2022 Winter Session of Parliament?\n",
            "\n",
            "To get a rundown of the day’s developments in Parliament in your inbox, subscribe to our Parliament Watch newsletter here.\n",
            "\n",
            "Lok Sabha | 12.13 p.m.\n",
            "\n",
            "Lok Sabha adjourned till 2 pm amid sloganeering by Opposition\n",
            "\n",
            "The Lower House has been again adjourned following ruckus and sloganeering by Opposition parties. Earlier, the Speaker adjourned the House within minutes of the commencement of proceedings on Thursday morning.\n",
            "\n",
            "Lok Sabha | 12.05 p.m.\n",
            "\n",
            "Proceedings resume in Lok Sabha, ruckus continues\n",
            "\n",
            "The Lok Sabha has taken up listed business for the day even as the Opposition resorts to sloganeering over their demand for a discussion on the current situation along the border with China.\n",
            "\n",
            "Rajya Sabha | 12.01 p.m.\n",
            "\n",
            "Question Hour underway in the House\n",
            "\n",
            "Rajya Sabha| 11.57 a.m.\n",
            "\n",
            "Opposition members stage a walkout over India-China clash\n",
            "\n",
            "Opposition parties stage a walkout after a long argument between the Chairman and Opposition on a debate about the Indo-China stand off in Tawang sector, Arunachal Pradesh\n",
            "\n",
            "Rajya Sabha| 11.55 a.m.\n",
            "\n",
            "Similar incidents never discussed in previous regimes: Piyush Goyal\n",
            "\n",
            "Leader of the House Piyush Goyal points out that the Deputy Chairman highlighted many instances like this which happened when the Opposition was in power, but that discussion didn’t happen then. The Defence Minister also made a detailed statement in the House about it, he says.\n",
            "\n",
            "He brings up the Rajiv Gandhi Foundation and alleges that they are not providing information.\n",
            "\n",
            "House continues to chant and protest as he speaks.\n",
            "\n",
            "Finance Minister Nirmala Sitharaman says that when the Indo-China border issue was raised when Pranab Mukherjee was a member of the House, he asked that it be discussed in the chamber, while not even being the Chairman of the House.\n",
            "\n",
            "Rajya Sabha| 11.50 a.m.\n",
            "\n",
            "We have only one request, discuss India- China border issue: Mallikarjun Kharge\n",
            "\n",
            "The Chair permits Leader of Opposition Mallikarjun Kharge to address the House, who opens by saying “No member here is against you or trying to embarrass you. We respect you.” We just have one request, that there be a discussion about the clash on the India-China border in Arunachal Pradesh, he says.\n",
            "\n",
            "He further asks that there be discussion about Piyush Goyal’s remarks insulting Bihar. Thirdly, he says that they wish for a discussion while the Chairman is simply stating rules.\n",
            "\n",
            "“Rules are one side, and practices, uses, customs, and precedents” are another side, he says. “There are conventions…We are bringing up the issue according to conventions, and you are getting angry,” Mr. Kharge says.\n",
            "\n",
            "“When we want a discussion for the nation’s security, there is no rule greater than that,” he says.\n",
            "\n",
            "You said that you want the leader of the House and Opposition to speak to you in the chamber, he tells the Chair. But this issue is something to be spoken in the open, the people who have elected us should hear us, he states.\n",
            "\n",
            "Rajya Sabha| 11.30 a.m.\n",
            "\n",
            "Turbulent Zero Hour in progress\n",
            "\n",
            "TMC(M) MP G.K Vasan speaks about the issue of manual scavenging as the Opposition chants “We want discussion!” and other slogans.\n",
            "\n",
            "CPI(M) MP Dr. V Sivadasan is called on to speak about the issue of women’s rights but asks for discussion about the India-China border clash. The Chair requests members to take their seats, as they congregate in the well of the House. This will come back to haunt you, he says. “I appeal to you with folded hands,” he requests the members.\n",
            "\n",
            "He asks the Leaders of the House and the Opposition to meet him at 1 p.m. in his chamber.\n",
            "\n",
            "Rajya Sabha| 11.14 a.m.\n",
            "\n",
            "Rule 267 notices disallowed by chair, House in an uproar\n",
            "\n",
            "The Chair disallows Rule 267 notices, leading to protests from Opposition members seeking suspension of the business of the House to discuss the India-China clash in Tawang sector, Arunachal Pradesh. They are also protesting Leader of the House Piyush Goyal’s remarks regarding Bihar. Mr. Goyal says that it is not his intention to insult Bihar or the people of Bihar.\n",
            "\n",
            "The Chair urges the members to take their seats, telling members that they are bound by the rules.\n",
            "\n",
            "Rajya Sabha| 11.10 a.m.\n",
            "\n",
            "House resumes proceedings\n",
            "\n",
            "Vice President Jagdeep Dhankar presiding, warns about the surging cases of Covid-19 in the country and urges caution. “We need to be vigilant and take all precautionary steps,” he says, urging members to wear masks inside the House.\n",
            "\n",
            "Lok Sabha | 11.01 a.m.\n",
            "\n",
            "Lok Sabha reconvenes, adjourned within minutes\n",
            "\n",
            "After a stormy session on Wednesday, proceedings resumed in the Lower House at 11 a.m. After obituary references to seven former members, the House took up Question Hour amid noisy scenes. The House has been adjourned to meet at 12 p.m.\n",
            "\n",
            "Parliament | 10.49 a.m.\n",
            "\n",
            "RJD, JD(U) MPs protest against Piyush Goyal, seek apology\n",
            "\n",
            "RJD and JD(U) MPs staged a protest in front of the Gandhi statue in Parliament today morning, demanding an apology from Union Minister Piyush Goyal for his alleged “demeaning” remarks against Bihar. On Tuesday, during Mr. Jha intervention in a debate on the Appropriation Bill, Mr. Goyal interjected to say, “ inka bas chale, toh desh ko Bihar hi bana de” (If they have their way, they will turn the country into Bihar).\n",
            "\n",
            "Objecting to Mr. Goyal’s comments, Mr. Jha wrote to the Rajya Sabha Chairman and said that such a “demeaning” statement was not expected from a person of Mr. Goyal’s rank. It is deeply problematic, he said, that the Government of India is singling out one State and terming it as a “failure”.\n",
            "\n",
            "Delhi | RJD-JD(U) MPs protest in front of Gandhi statue in Parliament over a remark made by Leader of House in Rajya Sabha and Union Minister Piyush Goyal on Bihar; the MPs also demand his apology over the same. pic.twitter.com/qSnDWYpOTU — ANI (@ANI) December 22, 2022\n",
            "\n",
            "Lok Sabha | 10.36 a.m.\n",
            "\n",
            "Mallikarjun Kharge chairs joint meeting with floor leaders\n",
            "\n",
            "Congress President Mallikarjun Kharge held a meeting of floor leaders of opposition parties to discuss strategy for the ongoing winter session. During the meeting, floor leaders of the Opposition parties took a unanimous decision to raise the border issue with China in Parliament, as per ANI.\n",
            "\n",
            "Lok Sabha | 10.30 a.m.\n",
            "\n",
            "Congress reiterates demand for discussion on India-China situation\n",
            "\n",
            "Congress MP Manish Tewari has given an adjournment motion notice in the Lok Sabha to discuss the border situation with China following a clash in Arunachal Pradesh.\n",
            "\n",
            "Rajya Sabha | 10:30 a.m.\n",
            "\n",
            "What is on the agenda for the Rajya Sabha?\n",
            "\n",
            "The Upper House will take up business as usual at 11 a.m., starting with the laying of papers, reports and a statement regarding the status of implementation of recommendations pertaining to the Ministry of Tourism.\n",
            "\n",
            "Bills that are expected to be considered today are:\n",
            "\n",
            "The Constitution (Scheduled Tribes) Order (Second Amendment) Bill, 2022, which modifies the list of Scheduled Tribes in Tamil Nadu The Constitution (Scheduled Tribes) Order (Third Amendment) Bill, 2022, which modifies the list of Scheduled Tribes in Himachal Pradesh The Constitution (Scheduled Tribes) Order (Fourth Amendment) Bill, 2022, which modifies the list of Scheduled Tribes in Karnataka\n",
            "\n",
            "All three of these were recently passed by the Lok Sabha.\n",
            "\n",
            "Lok Sabha | 10.20 a.m.\n",
            "\n",
            "Lok Sabha: What is it taking up today?\n",
            "\n",
            "At the outset, the Lok Sabha is expected to pay its respects to previous members who have recently passed away.\n",
            "\n",
            "This will be followed by the usual Question Hour and papers, reports and statements laid on the table of the House. Messages regarding Appropriation Bills 4 and 5 from the Rajya Sabha are expected to be conveyed to the Lower House. Post Special Mentions under Rule 377, Union Law Minister Kiren Rijiju is expected to move that the Repealing and Amending Bill, 2022 be taken up for consideration and passing.\n"
          ]
        }
      ]
    },
    {
      "cell_type": "code",
      "source": [
        "obje.nlp()\n",
        "obje.keywords"
      ],
      "metadata": {
        "colab": {
          "base_uri": "https://localhost:8080/"
        },
        "id": "hfcO7GPUm_P2",
        "outputId": "ea8d1bec-5309-4ced-ac27-adca18aa243e"
      },
      "execution_count": 13,
      "outputs": [
        {
          "output_type": "execute_result",
          "data": {
            "text/plain": [
              "['live',\n",
              " 'session',\n",
              " 'discussion',\n",
              " 'bill',\n",
              " 'minister',\n",
              " 'sabha',\n",
              " 'house',\n",
              " 'border',\n",
              " 'winter',\n",
              " 'updates',\n",
              " 'parliament',\n",
              " 'tribes',\n",
              " 'scheduled',\n",
              " 'members',\n",
              " 'opposition']"
            ]
          },
          "metadata": {},
          "execution_count": 13
        }
      ]
    },
    {
      "cell_type": "code",
      "source": [
        "print(obje.summary)"
      ],
      "metadata": {
        "colab": {
          "base_uri": "https://localhost:8080/"
        },
        "id": "zbnliJyMnGmk",
        "outputId": "25d31428-b47f-4935-c91a-6ae697f24e6e"
      },
      "execution_count": 14,
      "outputs": [
        {
          "output_type": "stream",
          "name": "stdout",
          "text": [
            "While the Lok Sabha was adjourned till 12 p.m., Opposition members staged a walkout in the Rajya Sabha after a heated back-and-forth with the Chairman.\n",
            "Later today, Rajya Sabha is expected to take up the Constitution (Scheduled Tribes) Order (Second Amendment) Bill, the Constitution (Scheduled Tribes) Order (Third Amendment) Bill and the Constitution (Scheduled Tribes) Order (Fourth Amendment) Bill, which modify the scheduled tribes list in Tamil Nadu, Himachal Pradesh and Karnataka respectively.\n",
            "The House also passed the Constitution (Scheduled Tribes) Order (Fifth Amendment) Bill, which modifies the list of Scheduled Tribes in Chhattisgarh.\n",
            "Explained | What’s on agenda for the 2022 Winter Session of Parliament?\n",
            "To get a rundown of the day’s developments in Parliament in your inbox, subscribe to our Parliament Watch newsletter here.\n"
          ]
        }
      ]
    },
    {
      "cell_type": "code",
      "source": [],
      "metadata": {
        "id": "MRpU2aQDnKTp"
      },
      "execution_count": null,
      "outputs": []
    }
  ]
}